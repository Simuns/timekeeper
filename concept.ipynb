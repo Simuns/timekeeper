{
 "cells": [
  {
   "cell_type": "code",
   "execution_count": 133,
   "metadata": {},
   "outputs": [
    {
     "name": "stdout",
     "output_type": "stream",
     "text": [
      "0:45:00\n"
     ]
    }
   ],
   "source": [
    "input_title = input(\"Enter Case title:\")\n",
    "input_url = input(\"Enter Case URL:\")\n",
    "input_start = input(\"Enter Start time:\")\n",
    "input_stop = input (\"Enter Stop time:\")\n"
   ]
  },
  {
   "cell_type": "code",
   "execution_count": 152,
   "metadata": {},
   "outputs": [
    {
     "name": "stdout",
     "output_type": "stream",
     "text": [
      "<class 'int'>\n",
      "2:15:00\n"
     ]
    }
   ],
   "source": [
    "input_start = '13:15'\n",
    "input_stop = '15:30'\n",
    "\n",
    "split_start = input_start.split(\":\")\n",
    "split_stop = input_stop.split(\":\")\n",
    "print(type(int(split_start[1])))\n",
    "\n",
    "\n",
    "start = now.replace(hour=int(split_start[0]), minute=int(split_start[1]), second=0, microsecond=0)\n",
    "end = now.replace(hour=int(split_stop[0]), minute=int(split_stop[1]), second=0, microsecond=0)\n",
    "diff = end - start\n",
    "print(diff)\n"
   ]
  },
  {
   "cell_type": "code",
   "execution_count": null,
   "metadata": {},
   "outputs": [],
   "source": []
  }
 ],
 "metadata": {
  "kernelspec": {
   "display_name": "Python 3.10.6 64-bit",
   "language": "python",
   "name": "python3"
  },
  "language_info": {
   "codemirror_mode": {
    "name": "ipython",
    "version": 3
   },
   "file_extension": ".py",
   "mimetype": "text/x-python",
   "name": "python",
   "nbconvert_exporter": "python",
   "pygments_lexer": "ipython3",
   "version": "3.10.6"
  },
  "orig_nbformat": 4,
  "vscode": {
   "interpreter": {
    "hash": "e7370f93d1d0cde622a1f8e1c04877d8463912d04d973331ad4851f04de6915a"
   }
  }
 },
 "nbformat": 4,
 "nbformat_minor": 2
}
